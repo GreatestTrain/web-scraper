{
 "cells": [
  {
   "cell_type": "code",
   "execution_count": 1,
   "metadata": {},
   "outputs": [],
   "source": [
    "import pandas as pd"
   ]
  },
  {
   "cell_type": "markdown",
   "metadata": {},
   "source": [
    "## **Series**"
   ]
  },
  {
   "cell_type": "markdown",
   "metadata": {},
   "source": [
    "Las series son grupos de tipos de datos ordenados y dinámicos que alamcenan un solo tipo de dato. Se pueden construir a partir de _tuples_, _lists_, _diccionarios_ y _numpy arrays_."
   ]
  },
  {
   "cell_type": "code",
   "execution_count": 2,
   "metadata": {},
   "outputs": [
    {
     "data": {
      "text/plain": [
       "0    100\n",
       "1    200\n",
       "2    300\n",
       "dtype: int64"
      ]
     },
     "execution_count": 2,
     "metadata": {},
     "output_type": "execute_result"
    }
   ],
   "source": [
    "series_test = pd.Series([100,200,300])\n",
    "series_test"
   ]
  },
  {
   "cell_type": "markdown",
   "metadata": {},
   "source": [
    "Los _strings_ son tratados como objetos por defecto."
   ]
  },
  {
   "cell_type": "code",
   "execution_count": 3,
   "metadata": {},
   "outputs": [
    {
     "data": {
      "text/plain": [
       "x    a\n",
       "y    b\n",
       "z    c\n",
       "dtype: object"
      ]
     },
     "execution_count": 3,
     "metadata": {},
     "output_type": "execute_result"
    }
   ],
   "source": [
    "series_test = pd.Series([\"a\",\"b\",\"c\"], index=[\"x\",\"y\",\"z\"], dtype=str)\n",
    "series_test"
   ]
  },
  {
   "cell_type": "code",
   "execution_count": 4,
   "metadata": {},
   "outputs": [
    {
     "data": {
      "text/plain": [
       "array(['a', 'b', 'c'], dtype=object)"
      ]
     },
     "execution_count": 4,
     "metadata": {},
     "output_type": "execute_result"
    }
   ],
   "source": [
    "series_test = pd.Series({1: \"a\", 2:\"b\",3:\"c\"}, dtype=str)\n",
    "series_test.values"
   ]
  },
  {
   "cell_type": "markdown",
   "metadata": {},
   "source": [
    "## **Dataframes**\n",
    "\n",
    "Son un conjunto de series que conforma un conjunto de datos con dos dimensiones, también posee _labels_ o etiquetas."
   ]
  },
  {
   "cell_type": "code",
   "execution_count": 5,
   "metadata": {},
   "outputs": [
    {
     "data": {
      "text/html": [
       "<div>\n",
       "<style scoped>\n",
       "    .dataframe tbody tr th:only-of-type {\n",
       "        vertical-align: middle;\n",
       "    }\n",
       "\n",
       "    .dataframe tbody tr th {\n",
       "        vertical-align: top;\n",
       "    }\n",
       "\n",
       "    .dataframe thead th {\n",
       "        text-align: right;\n",
       "    }\n",
       "</style>\n",
       "<table border=\"1\" class=\"dataframe\">\n",
       "  <thead>\n",
       "    <tr style=\"text-align: right;\">\n",
       "      <th></th>\n",
       "      <th>1999</th>\n",
       "      <th>2000</th>\n",
       "      <th>2001</th>\n",
       "    </tr>\n",
       "  </thead>\n",
       "  <tbody>\n",
       "    <tr>\n",
       "      <th>0</th>\n",
       "      <td>1</td>\n",
       "      <td>4</td>\n",
       "      <td>7</td>\n",
       "    </tr>\n",
       "    <tr>\n",
       "      <th>1</th>\n",
       "      <td>2</td>\n",
       "      <td>5</td>\n",
       "      <td>8</td>\n",
       "    </tr>\n",
       "    <tr>\n",
       "      <th>2</th>\n",
       "      <td>3</td>\n",
       "      <td>6</td>\n",
       "      <td>9</td>\n",
       "    </tr>\n",
       "  </tbody>\n",
       "</table>\n",
       "</div>"
      ],
      "text/plain": [
       "   1999  2000  2001\n",
       "0     1     4     7\n",
       "1     2     5     8\n",
       "2     3     6     9"
      ]
     },
     "execution_count": 5,
     "metadata": {},
     "output_type": "execute_result"
    }
   ],
   "source": [
    "frame_test = pd.DataFrame({\n",
    "    1999: [1,2,3],\n",
    "    2000: [4,5,6],\n",
    "    2001: [7,8,9]}\n",
    ")\n",
    "frame_test"
   ]
  },
  {
   "cell_type": "code",
   "execution_count": 6,
   "metadata": {},
   "outputs": [
    {
     "data": {
      "text/html": [
       "<div>\n",
       "<style scoped>\n",
       "    .dataframe tbody tr th:only-of-type {\n",
       "        vertical-align: middle;\n",
       "    }\n",
       "\n",
       "    .dataframe tbody tr th {\n",
       "        vertical-align: top;\n",
       "    }\n",
       "\n",
       "    .dataframe thead th {\n",
       "        text-align: right;\n",
       "    }\n",
       "</style>\n",
       "<table border=\"1\" class=\"dataframe\">\n",
       "  <thead>\n",
       "    <tr style=\"text-align: right;\">\n",
       "      <th></th>\n",
       "      <th>1999</th>\n",
       "      <th>2000</th>\n",
       "      <th>2001</th>\n",
       "    </tr>\n",
       "  </thead>\n",
       "  <tbody>\n",
       "    <tr>\n",
       "      <th>0</th>\n",
       "      <td>1</td>\n",
       "      <td>2</td>\n",
       "      <td>3</td>\n",
       "    </tr>\n",
       "    <tr>\n",
       "      <th>1</th>\n",
       "      <td>4</td>\n",
       "      <td>5</td>\n",
       "      <td>6</td>\n",
       "    </tr>\n",
       "    <tr>\n",
       "      <th>2</th>\n",
       "      <td>7</td>\n",
       "      <td>8</td>\n",
       "      <td>9</td>\n",
       "    </tr>\n",
       "  </tbody>\n",
       "</table>\n",
       "</div>"
      ],
      "text/plain": [
       "   1999  2000  2001\n",
       "0     1     2     3\n",
       "1     4     5     6\n",
       "2     7     8     9"
      ]
     },
     "execution_count": 6,
     "metadata": {},
     "output_type": "execute_result"
    }
   ],
   "source": [
    "frame_test = pd.DataFrame(\n",
    "    [[1,2,3],\n",
    "    [4,5,6],\n",
    "    [7,8,9]], columns=[1999,2000,2001]\n",
    ")\n",
    "frame_test"
   ]
  },
  {
   "cell_type": "markdown",
   "metadata": {},
   "source": [
    "## **Índices y selección**"
   ]
  },
  {
   "cell_type": "markdown",
   "metadata": {},
   "source": [
    "* Dictionary-like: \\\n",
    "`df['col']` -> _DataSeries_ \\\n",
    "`df[['col1','col2']]` -> _DataFrame_\n",
    "\n",
    "* Numpy-like: Solo recibe numeros como argumentos \\\n",
    "`df.iloc[:]` <- fila \\\n",
    "`df.iloc[:,:]` <- fila, columna\n",
    "\n",
    "* Label-based: Recibe los distintos tipos de datos que pueda tener como índice o columna: \\\n",
    "`df.loc[:]` <- fila \\\n",
    "`df.loc[:,:]` <- fila, columna\n"
   ]
  },
  {
   "cell_type": "code",
   "execution_count": 7,
   "metadata": {},
   "outputs": [
    {
     "data": {
      "text/html": [
       "<div>\n",
       "<style scoped>\n",
       "    .dataframe tbody tr th:only-of-type {\n",
       "        vertical-align: middle;\n",
       "    }\n",
       "\n",
       "    .dataframe tbody tr th {\n",
       "        vertical-align: top;\n",
       "    }\n",
       "\n",
       "    .dataframe thead th {\n",
       "        text-align: right;\n",
       "    }\n",
       "</style>\n",
       "<table border=\"1\" class=\"dataframe\">\n",
       "  <thead>\n",
       "    <tr style=\"text-align: right;\">\n",
       "      <th></th>\n",
       "      <th>body</th>\n",
       "      <th>title</th>\n",
       "      <th>url</th>\n",
       "    </tr>\n",
       "  </thead>\n",
       "  <tbody>\n",
       "    <tr>\n",
       "      <th>0</th>\n",
       "      <td>\\r\\n Este jueves 14 de julio fue aprehendido u...</td>\n",
       "      <td>Detienen a uno de los presuntos asaltantes de ...</td>\n",
       "      <td>https://sanluis.eluniversal.com.mx/sociedad/de...</td>\n",
       "    </tr>\n",
       "    <tr>\n",
       "      <th>1</th>\n",
       "      <td>\\r\\nEn su pasada visita a Washington DC, el pr...</td>\n",
       "      <td>Crisis no se enfrentan con acciones tibias, si...</td>\n",
       "      <td>https://www.eluniversal.com.mx/nacion/crisis-n...</td>\n",
       "    </tr>\n",
       "    <tr>\n",
       "      <th>2</th>\n",
       "      <td>\\r\\n\\r\\nSemarnat negó a Audi un permiso clave ...</td>\n",
       "      <td>Semarnat, tache</td>\n",
       "      <td>http://www.eluniversal.com.mx/opinion/mario-me...</td>\n",
       "    </tr>\n",
       "    <tr>\n",
       "      <th>3</th>\n",
       "      <td>\\r\\n Los presidentes de México y Estados Unido...</td>\n",
       "      <td>México y EU, cooperación bilateral con respons...</td>\n",
       "      <td>http://www.eluniversal.com.mx/opinion/gabriela...</td>\n",
       "    </tr>\n",
       "    <tr>\n",
       "      <th>4</th>\n",
       "      <td>\\r\\nDesde su creación por decreto el 26 de mar...</td>\n",
       "      <td>Peligro, Guardia Nacional al volante</td>\n",
       "      <td>http://www.eluniversal.com.mx/opinion/claudio-...</td>\n",
       "    </tr>\n",
       "  </tbody>\n",
       "</table>\n",
       "</div>"
      ],
      "text/plain": [
       "                                                body  \\\n",
       "0  \\r\\n Este jueves 14 de julio fue aprehendido u...   \n",
       "1  \\r\\nEn su pasada visita a Washington DC, el pr...   \n",
       "2  \\r\\n\\r\\nSemarnat negó a Audi un permiso clave ...   \n",
       "3  \\r\\n Los presidentes de México y Estados Unido...   \n",
       "4  \\r\\nDesde su creación por decreto el 26 de mar...   \n",
       "\n",
       "                                               title  \\\n",
       "0  Detienen a uno de los presuntos asaltantes de ...   \n",
       "1  Crisis no se enfrentan con acciones tibias, si...   \n",
       "2                                    Semarnat, tache   \n",
       "3  México y EU, cooperación bilateral con respons...   \n",
       "4               Peligro, Guardia Nacional al volante   \n",
       "\n",
       "                                                 url  \n",
       "0  https://sanluis.eluniversal.com.mx/sociedad/de...  \n",
       "1  https://www.eluniversal.com.mx/nacion/crisis-n...  \n",
       "2  http://www.eluniversal.com.mx/opinion/mario-me...  \n",
       "3  http://www.eluniversal.com.mx/opinion/gabriela...  \n",
       "4  http://www.eluniversal.com.mx/opinion/claudio-...  "
      ]
     },
     "execution_count": 7,
     "metadata": {},
     "output_type": "execute_result"
    }
   ],
   "source": [
    "noticias_df = pd.read_csv('../web_scraper/eluniversal_2022_07_15_articles.csv')\n",
    "noticias_df.head()"
   ]
  },
  {
   "cell_type": "code",
   "execution_count": 8,
   "metadata": {},
   "outputs": [
    {
     "data": {
      "text/html": [
       "<div>\n",
       "<style scoped>\n",
       "    .dataframe tbody tr th:only-of-type {\n",
       "        vertical-align: middle;\n",
       "    }\n",
       "\n",
       "    .dataframe tbody tr th {\n",
       "        vertical-align: top;\n",
       "    }\n",
       "\n",
       "    .dataframe thead th {\n",
       "        text-align: right;\n",
       "    }\n",
       "</style>\n",
       "<table border=\"1\" class=\"dataframe\">\n",
       "  <thead>\n",
       "    <tr style=\"text-align: right;\">\n",
       "      <th></th>\n",
       "      <th>body</th>\n",
       "      <th>title</th>\n",
       "      <th>url</th>\n",
       "    </tr>\n",
       "  </thead>\n",
       "  <tbody>\n",
       "    <tr>\n",
       "      <th>0</th>\n",
       "      <td>Este jueves 14 de julio fue aprehendido uno d...</td>\n",
       "      <td>Detienen a uno de los presuntos asaltantes de ...</td>\n",
       "      <td>https://sanluis.eluniversal.com.mx/sociedad/de...</td>\n",
       "    </tr>\n",
       "    <tr>\n",
       "      <th>1</th>\n",
       "      <td>En su pasada visita a Washington DC, el presid...</td>\n",
       "      <td>Crisis no se enfrentan con acciones tibias, si...</td>\n",
       "      <td>https://www.eluniversal.com.mx/nacion/crisis-n...</td>\n",
       "    </tr>\n",
       "    <tr>\n",
       "      <th>2</th>\n",
       "      <td>Semarnat negó a Audi un permiso clave para ins...</td>\n",
       "      <td>Semarnat, tache</td>\n",
       "      <td>http://www.eluniversal.com.mx/opinion/mario-me...</td>\n",
       "    </tr>\n",
       "    <tr>\n",
       "      <th>3</th>\n",
       "      <td>Los presidentes de México y Estados Unidos se...</td>\n",
       "      <td>México y EU, cooperación bilateral con respons...</td>\n",
       "      <td>http://www.eluniversal.com.mx/opinion/gabriela...</td>\n",
       "    </tr>\n",
       "    <tr>\n",
       "      <th>4</th>\n",
       "      <td>Desde su creación por decreto el 26 de marzo d...</td>\n",
       "      <td>Peligro, Guardia Nacional al volante</td>\n",
       "      <td>http://www.eluniversal.com.mx/opinion/claudio-...</td>\n",
       "    </tr>\n",
       "  </tbody>\n",
       "</table>\n",
       "</div>"
      ],
      "text/plain": [
       "                                                body  \\\n",
       "0   Este jueves 14 de julio fue aprehendido uno d...   \n",
       "1  En su pasada visita a Washington DC, el presid...   \n",
       "2  Semarnat negó a Audi un permiso clave para ins...   \n",
       "3   Los presidentes de México y Estados Unidos se...   \n",
       "4  Desde su creación por decreto el 26 de marzo d...   \n",
       "\n",
       "                                               title  \\\n",
       "0  Detienen a uno de los presuntos asaltantes de ...   \n",
       "1  Crisis no se enfrentan con acciones tibias, si...   \n",
       "2                                    Semarnat, tache   \n",
       "3  México y EU, cooperación bilateral con respons...   \n",
       "4               Peligro, Guardia Nacional al volante   \n",
       "\n",
       "                                                 url  \n",
       "0  https://sanluis.eluniversal.com.mx/sociedad/de...  \n",
       "1  https://www.eluniversal.com.mx/nacion/crisis-n...  \n",
       "2  http://www.eluniversal.com.mx/opinion/mario-me...  \n",
       "3  http://www.eluniversal.com.mx/opinion/gabriela...  \n",
       "4  http://www.eluniversal.com.mx/opinion/claudio-...  "
      ]
     },
     "execution_count": 8,
     "metadata": {},
     "output_type": "execute_result"
    }
   ],
   "source": [
    "noticias_df[\"body\"] = noticias_df[\"body\"].str.replace(\"\\r\\n\", \"\")\n",
    "noticias_df.head()"
   ]
  },
  {
   "cell_type": "markdown",
   "metadata": {},
   "source": [
    "## **Data wrangling**"
   ]
  },
  {
   "cell_type": "code",
   "execution_count": 9,
   "metadata": {},
   "outputs": [
    {
     "data": {
      "text/html": [
       "<div>\n",
       "<style scoped>\n",
       "    .dataframe tbody tr th:only-of-type {\n",
       "        vertical-align: middle;\n",
       "    }\n",
       "\n",
       "    .dataframe tbody tr th {\n",
       "        vertical-align: top;\n",
       "    }\n",
       "\n",
       "    .dataframe thead th {\n",
       "        text-align: right;\n",
       "    }\n",
       "</style>\n",
       "<table border=\"1\" class=\"dataframe\">\n",
       "  <thead>\n",
       "    <tr style=\"text-align: right;\">\n",
       "      <th></th>\n",
       "      <th>body</th>\n",
       "      <th>title</th>\n",
       "      <th>url</th>\n",
       "      <th>newspaper_uid</th>\n",
       "    </tr>\n",
       "  </thead>\n",
       "  <tbody>\n",
       "    <tr>\n",
       "      <th>0</th>\n",
       "      <td>Este jueves 14 de julio fue aprehendido uno d...</td>\n",
       "      <td>Detienen a uno de los presuntos asaltantes de ...</td>\n",
       "      <td>https://sanluis.eluniversal.com.mx/sociedad/de...</td>\n",
       "      <td>el_universal</td>\n",
       "    </tr>\n",
       "    <tr>\n",
       "      <th>1</th>\n",
       "      <td>En su pasada visita a Washington DC, el presid...</td>\n",
       "      <td>Crisis no se enfrentan con acciones tibias, si...</td>\n",
       "      <td>https://www.eluniversal.com.mx/nacion/crisis-n...</td>\n",
       "      <td>el_universal</td>\n",
       "    </tr>\n",
       "  </tbody>\n",
       "</table>\n",
       "</div>"
      ],
      "text/plain": [
       "                                                body  \\\n",
       "0   Este jueves 14 de julio fue aprehendido uno d...   \n",
       "1  En su pasada visita a Washington DC, el presid...   \n",
       "\n",
       "                                               title  \\\n",
       "0  Detienen a uno de los presuntos asaltantes de ...   \n",
       "1  Crisis no se enfrentan con acciones tibias, si...   \n",
       "\n",
       "                                                 url newspaper_uid  \n",
       "0  https://sanluis.eluniversal.com.mx/sociedad/de...  el_universal  \n",
       "1  https://www.eluniversal.com.mx/nacion/crisis-n...  el_universal  "
      ]
     },
     "execution_count": 9,
     "metadata": {},
     "output_type": "execute_result"
    }
   ],
   "source": [
    "# 1. Añadir el newspaper_uid al Dataframe\n",
    "\n",
    "noticias_df['newspaper_uid'] = 'el_universal'\n",
    "noticias_df.head(2)"
   ]
  },
  {
   "cell_type": "code",
   "execution_count": 10,
   "metadata": {},
   "outputs": [
    {
     "data": {
      "text/html": [
       "<div>\n",
       "<style scoped>\n",
       "    .dataframe tbody tr th:only-of-type {\n",
       "        vertical-align: middle;\n",
       "    }\n",
       "\n",
       "    .dataframe tbody tr th {\n",
       "        vertical-align: top;\n",
       "    }\n",
       "\n",
       "    .dataframe thead th {\n",
       "        text-align: right;\n",
       "    }\n",
       "</style>\n",
       "<table border=\"1\" class=\"dataframe\">\n",
       "  <thead>\n",
       "    <tr style=\"text-align: right;\">\n",
       "      <th></th>\n",
       "      <th>body</th>\n",
       "      <th>title</th>\n",
       "      <th>url</th>\n",
       "      <th>newspaper_uid</th>\n",
       "      <th>host</th>\n",
       "    </tr>\n",
       "  </thead>\n",
       "  <tbody>\n",
       "    <tr>\n",
       "      <th>0</th>\n",
       "      <td>Este jueves 14 de julio fue aprehendido uno d...</td>\n",
       "      <td>Detienen a uno de los presuntos asaltantes de ...</td>\n",
       "      <td>https://sanluis.eluniversal.com.mx/sociedad/de...</td>\n",
       "      <td>el_universal</td>\n",
       "      <td>sanluis.eluniversal.com.mx</td>\n",
       "    </tr>\n",
       "    <tr>\n",
       "      <th>1</th>\n",
       "      <td>En su pasada visita a Washington DC, el presid...</td>\n",
       "      <td>Crisis no se enfrentan con acciones tibias, si...</td>\n",
       "      <td>https://www.eluniversal.com.mx/nacion/crisis-n...</td>\n",
       "      <td>el_universal</td>\n",
       "      <td>www.eluniversal.com.mx</td>\n",
       "    </tr>\n",
       "  </tbody>\n",
       "</table>\n",
       "</div>"
      ],
      "text/plain": [
       "                                                body  \\\n",
       "0   Este jueves 14 de julio fue aprehendido uno d...   \n",
       "1  En su pasada visita a Washington DC, el presid...   \n",
       "\n",
       "                                               title  \\\n",
       "0  Detienen a uno de los presuntos asaltantes de ...   \n",
       "1  Crisis no se enfrentan con acciones tibias, si...   \n",
       "\n",
       "                                                 url newspaper_uid  \\\n",
       "0  https://sanluis.eluniversal.com.mx/sociedad/de...  el_universal   \n",
       "1  https://www.eluniversal.com.mx/nacion/crisis-n...  el_universal   \n",
       "\n",
       "                         host  \n",
       "0  sanluis.eluniversal.com.mx  \n",
       "1      www.eluniversal.com.mx  "
      ]
     },
     "execution_count": 10,
     "metadata": {},
     "output_type": "execute_result"
    }
   ],
   "source": [
    "from urllib.parse import urlparse\n",
    "noticias_df['host'] = noticias_df['url'].apply(lambda url: urlparse(url=url).netloc)\n",
    "noticias_df.head(2)"
   ]
  },
  {
   "cell_type": "code",
   "execution_count": 11,
   "metadata": {},
   "outputs": [
    {
     "data": {
      "text/plain": [
       "www.eluniversal.com.mx        26\n",
       "sanluis.eluniversal.com.mx     1\n",
       "oaxaca.eluniversal.com.mx      1\n",
       "Name: host, dtype: int64"
      ]
     },
     "execution_count": 11,
     "metadata": {},
     "output_type": "execute_result"
    }
   ],
   "source": [
    "noticias_df['host'].value_counts()"
   ]
  },
  {
   "cell_type": "markdown",
   "metadata": {},
   "source": [
    "## **Missing Data**"
   ]
  },
  {
   "cell_type": "code",
   "execution_count": 12,
   "metadata": {},
   "outputs": [
    {
     "data": {
      "text/plain": [
       "body             Una abuela de armas tomar será el personaje qu...\n",
       "title                                                          NaN\n",
       "url              http://www.eluniversal.com.mx/espectaculos/adr...\n",
       "newspaper_uid                                         el_universal\n",
       "host                                        www.eluniversal.com.mx\n",
       "Name: 18, dtype: object"
      ]
     },
     "execution_count": 12,
     "metadata": {},
     "output_type": "execute_result"
    }
   ],
   "source": [
    "noticias_df.iloc[18]"
   ]
  },
  {
   "cell_type": "code",
   "execution_count": 13,
   "metadata": {},
   "outputs": [
    {
     "data": {
      "text/html": [
       "<div>\n",
       "<style scoped>\n",
       "    .dataframe tbody tr th:only-of-type {\n",
       "        vertical-align: middle;\n",
       "    }\n",
       "\n",
       "    .dataframe tbody tr th {\n",
       "        vertical-align: top;\n",
       "    }\n",
       "\n",
       "    .dataframe thead th {\n",
       "        text-align: right;\n",
       "    }\n",
       "</style>\n",
       "<table border=\"1\" class=\"dataframe\">\n",
       "  <thead>\n",
       "    <tr style=\"text-align: right;\">\n",
       "      <th></th>\n",
       "      <th>missing_titles</th>\n",
       "    </tr>\n",
       "  </thead>\n",
       "  <tbody>\n",
       "    <tr>\n",
       "      <th>18</th>\n",
       "      <td>Adriana barraza la abuela aguerrida que llega dc</td>\n",
       "    </tr>\n",
       "  </tbody>\n",
       "</table>\n",
       "</div>"
      ],
      "text/plain": [
       "                                      missing_titles\n",
       "18  Adriana barraza la abuela aguerrida que llega dc"
      ]
     },
     "execution_count": 13,
     "metadata": {},
     "output_type": "execute_result"
    }
   ],
   "source": [
    "missing_title_mask = noticias_df['title'].isna()\n",
    "missing_titles = noticias_df[missing_title_mask]['url'].str.extract(r'(?P<missing_titles>[^/]+)$').applymap(lambda title: title.replace(\"-\", \" \").capitalize())\n",
    "missing_titles"
   ]
  },
  {
   "cell_type": "code",
   "execution_count": 14,
   "metadata": {},
   "outputs": [],
   "source": [
    "noticias_df.loc[missing_title_mask, 'title'] = missing_titles.loc[:,'missing_titles']"
   ]
  },
  {
   "cell_type": "code",
   "execution_count": 15,
   "metadata": {},
   "outputs": [
    {
     "data": {
      "text/plain": [
       "body             Una abuela de armas tomar será el personaje qu...\n",
       "title             Adriana barraza la abuela aguerrida que llega dc\n",
       "url              http://www.eluniversal.com.mx/espectaculos/adr...\n",
       "newspaper_uid                                         el_universal\n",
       "host                                        www.eluniversal.com.mx\n",
       "Name: 18, dtype: object"
      ]
     },
     "execution_count": 15,
     "metadata": {},
     "output_type": "execute_result"
    }
   ],
   "source": [
    "noticias_df.loc[18]"
   ]
  },
  {
   "cell_type": "markdown",
   "metadata": {},
   "source": [
    "## **Additional cleanup**"
   ]
  },
  {
   "cell_type": "code",
   "execution_count": 16,
   "metadata": {},
   "outputs": [
    {
     "data": {
      "text/html": [
       "<div>\n",
       "<style scoped>\n",
       "    .dataframe tbody tr th:only-of-type {\n",
       "        vertical-align: middle;\n",
       "    }\n",
       "\n",
       "    .dataframe tbody tr th {\n",
       "        vertical-align: top;\n",
       "    }\n",
       "\n",
       "    .dataframe thead th {\n",
       "        text-align: right;\n",
       "    }\n",
       "</style>\n",
       "<table border=\"1\" class=\"dataframe\">\n",
       "  <thead>\n",
       "    <tr style=\"text-align: right;\">\n",
       "      <th></th>\n",
       "      <th>body</th>\n",
       "      <th>title</th>\n",
       "      <th>url</th>\n",
       "      <th>newspaper_uid</th>\n",
       "      <th>host</th>\n",
       "    </tr>\n",
       "    <tr>\n",
       "      <th>uid</th>\n",
       "      <th></th>\n",
       "      <th></th>\n",
       "      <th></th>\n",
       "      <th></th>\n",
       "      <th></th>\n",
       "    </tr>\n",
       "  </thead>\n",
       "  <tbody>\n",
       "    <tr>\n",
       "      <th>672acc53d38f65d859d66f21bd20e726</th>\n",
       "      <td>Este jueves 14 de julio fue aprehendido uno d...</td>\n",
       "      <td>Detienen a uno de los presuntos asaltantes de ...</td>\n",
       "      <td>https://sanluis.eluniversal.com.mx/sociedad/de...</td>\n",
       "      <td>el_universal</td>\n",
       "      <td>sanluis.eluniversal.com.mx</td>\n",
       "    </tr>\n",
       "    <tr>\n",
       "      <th>73ca710dc260bc439f95df00f0835cd5</th>\n",
       "      <td>En su pasada visita a Washington DC, el presid...</td>\n",
       "      <td>Crisis no se enfrentan con acciones tibias, si...</td>\n",
       "      <td>https://www.eluniversal.com.mx/nacion/crisis-n...</td>\n",
       "      <td>el_universal</td>\n",
       "      <td>www.eluniversal.com.mx</td>\n",
       "    </tr>\n",
       "  </tbody>\n",
       "</table>\n",
       "</div>"
      ],
      "text/plain": [
       "                                                                               body  \\\n",
       "uid                                                                                   \n",
       "672acc53d38f65d859d66f21bd20e726   Este jueves 14 de julio fue aprehendido uno d...   \n",
       "73ca710dc260bc439f95df00f0835cd5  En su pasada visita a Washington DC, el presid...   \n",
       "\n",
       "                                                                              title  \\\n",
       "uid                                                                                   \n",
       "672acc53d38f65d859d66f21bd20e726  Detienen a uno de los presuntos asaltantes de ...   \n",
       "73ca710dc260bc439f95df00f0835cd5  Crisis no se enfrentan con acciones tibias, si...   \n",
       "\n",
       "                                                                                url  \\\n",
       "uid                                                                                   \n",
       "672acc53d38f65d859d66f21bd20e726  https://sanluis.eluniversal.com.mx/sociedad/de...   \n",
       "73ca710dc260bc439f95df00f0835cd5  https://www.eluniversal.com.mx/nacion/crisis-n...   \n",
       "\n",
       "                                 newspaper_uid                        host  \n",
       "uid                                                                         \n",
       "672acc53d38f65d859d66f21bd20e726  el_universal  sanluis.eluniversal.com.mx  \n",
       "73ca710dc260bc439f95df00f0835cd5  el_universal      www.eluniversal.com.mx  "
      ]
     },
     "execution_count": 16,
     "metadata": {},
     "output_type": "execute_result"
    }
   ],
   "source": [
    "import hashlib\n",
    "\n",
    "uids = (noticias_df\n",
    "            .apply(lambda row: hashlib.md5(bytes(row['url'].encode())), axis=1)\n",
    "            .apply(lambda hash_object: hash_object.hexdigest())\n",
    ")\n",
    "\n",
    "noticias_df['uid'] = uids\n",
    "noticias_df.set_index('uid', inplace = True)\n",
    "noticias_df.head(2)"
   ]
  },
  {
   "cell_type": "markdown",
   "metadata": {},
   "source": [
    "## **Data enrichment**"
   ]
  },
  {
   "cell_type": "code",
   "execution_count": 17,
   "metadata": {},
   "outputs": [],
   "source": [
    "import nltk\n",
    "from nltk.corpus import stopwords"
   ]
  },
  {
   "cell_type": "code",
   "execution_count": 18,
   "metadata": {},
   "outputs": [
    {
     "name": "stderr",
     "output_type": "stream",
     "text": [
      "[nltk_data] Downloading package punkt to\n",
      "[nltk_data]     C:\\Users\\Cesar\\AppData\\Roaming\\nltk_data...\n",
      "[nltk_data]   Package punkt is already up-to-date!\n",
      "[nltk_data] Downloading package stopwords to\n",
      "[nltk_data]     C:\\Users\\Cesar\\AppData\\Roaming\\nltk_data...\n",
      "[nltk_data]   Package stopwords is already up-to-date!\n"
     ]
    },
    {
     "data": {
      "text/plain": [
       "True"
      ]
     },
     "execution_count": 18,
     "metadata": {},
     "output_type": "execute_result"
    }
   ],
   "source": [
    "nltk.download('punkt')\n",
    "nltk.download('stopwords')"
   ]
  },
  {
   "cell_type": "code",
   "execution_count": 19,
   "metadata": {},
   "outputs": [],
   "source": [
    "stop_words = set(stopwords.words('spanish'))"
   ]
  },
  {
   "cell_type": "code",
   "execution_count": 21,
   "metadata": {},
   "outputs": [
    {
     "data": {
      "text/html": [
       "<div>\n",
       "<style scoped>\n",
       "    .dataframe tbody tr th:only-of-type {\n",
       "        vertical-align: middle;\n",
       "    }\n",
       "\n",
       "    .dataframe tbody tr th {\n",
       "        vertical-align: top;\n",
       "    }\n",
       "\n",
       "    .dataframe thead th {\n",
       "        text-align: right;\n",
       "    }\n",
       "</style>\n",
       "<table border=\"1\" class=\"dataframe\">\n",
       "  <thead>\n",
       "    <tr style=\"text-align: right;\">\n",
       "      <th></th>\n",
       "      <th>body</th>\n",
       "      <th>title</th>\n",
       "      <th>url</th>\n",
       "      <th>newspaper_uid</th>\n",
       "      <th>host</th>\n",
       "      <th>n_tokens_title</th>\n",
       "    </tr>\n",
       "    <tr>\n",
       "      <th>uid</th>\n",
       "      <th></th>\n",
       "      <th></th>\n",
       "      <th></th>\n",
       "      <th></th>\n",
       "      <th></th>\n",
       "      <th></th>\n",
       "    </tr>\n",
       "  </thead>\n",
       "  <tbody>\n",
       "    <tr>\n",
       "      <th>672acc53d38f65d859d66f21bd20e726</th>\n",
       "      <td>Este jueves 14 de julio fue aprehendido uno d...</td>\n",
       "      <td>Detienen a uno de los presuntos asaltantes de ...</td>\n",
       "      <td>https://sanluis.eluniversal.com.mx/sociedad/de...</td>\n",
       "      <td>el_universal</td>\n",
       "      <td>sanluis.eluniversal.com.mx</td>\n",
       "      <td>9</td>\n",
       "    </tr>\n",
       "    <tr>\n",
       "      <th>73ca710dc260bc439f95df00f0835cd5</th>\n",
       "      <td>En su pasada visita a Washington DC, el presid...</td>\n",
       "      <td>Crisis no se enfrentan con acciones tibias, si...</td>\n",
       "      <td>https://www.eluniversal.com.mx/nacion/crisis-n...</td>\n",
       "      <td>el_universal</td>\n",
       "      <td>www.eluniversal.com.mx</td>\n",
       "      <td>11</td>\n",
       "    </tr>\n",
       "  </tbody>\n",
       "</table>\n",
       "</div>"
      ],
      "text/plain": [
       "                                                                               body  \\\n",
       "uid                                                                                   \n",
       "672acc53d38f65d859d66f21bd20e726   Este jueves 14 de julio fue aprehendido uno d...   \n",
       "73ca710dc260bc439f95df00f0835cd5  En su pasada visita a Washington DC, el presid...   \n",
       "\n",
       "                                                                              title  \\\n",
       "uid                                                                                   \n",
       "672acc53d38f65d859d66f21bd20e726  Detienen a uno de los presuntos asaltantes de ...   \n",
       "73ca710dc260bc439f95df00f0835cd5  Crisis no se enfrentan con acciones tibias, si...   \n",
       "\n",
       "                                                                                url  \\\n",
       "uid                                                                                   \n",
       "672acc53d38f65d859d66f21bd20e726  https://sanluis.eluniversal.com.mx/sociedad/de...   \n",
       "73ca710dc260bc439f95df00f0835cd5  https://www.eluniversal.com.mx/nacion/crisis-n...   \n",
       "\n",
       "                                 newspaper_uid                        host  \\\n",
       "uid                                                                          \n",
       "672acc53d38f65d859d66f21bd20e726  el_universal  sanluis.eluniversal.com.mx   \n",
       "73ca710dc260bc439f95df00f0835cd5  el_universal      www.eluniversal.com.mx   \n",
       "\n",
       "                                  n_tokens_title  \n",
       "uid                                               \n",
       "672acc53d38f65d859d66f21bd20e726               9  \n",
       "73ca710dc260bc439f95df00f0835cd5              11  "
      ]
     },
     "execution_count": 21,
     "metadata": {},
     "output_type": "execute_result"
    }
   ],
   "source": [
    "def tokenize_column(df, column_name):\n",
    "    return  (df\n",
    "                .dropna()\n",
    "                .apply(lambda row: nltk.word_tokenize(row[column_name]), axis = 1)\n",
    "                .apply(lambda tokens: list(filter(lambda x: x.isalpha(), tokens)))\n",
    "                .apply(lambda tokens: list(map(lambda token: token.lower(), tokens)))\n",
    "                .apply(lambda word_list: list(filter(lambda word: word not in stop_words, word_list)))\n",
    "                .apply(lambda valid_list: len(valid_list))\n",
    "            )\n",
    "\n",
    "noticias_df['n_tokens_title'] = tokenize_column(noticias_df, 'title')\n",
    "noticias_df.head(2)"
   ]
  },
  {
   "cell_type": "markdown",
   "metadata": {},
   "source": [
    "## **Duplicate values**"
   ]
  },
  {
   "cell_type": "code",
   "execution_count": 52,
   "metadata": {},
   "outputs": [
    {
     "data": {
      "text/plain": [
       "True"
      ]
     },
     "execution_count": 52,
     "metadata": {},
     "output_type": "execute_result"
    }
   ],
   "source": [
    "# pd.options.display.max_rows = 6\n",
    "# pd.options.display.max_colwidth = 20\n",
    "pd.options.display.multi_sparse"
   ]
  },
  {
   "cell_type": "code",
   "execution_count": 51,
   "metadata": {},
   "outputs": [
    {
     "data": {
      "text/html": [
       "<div>\n",
       "<style scoped>\n",
       "    .dataframe tbody tr th:only-of-type {\n",
       "        vertical-align: middle;\n",
       "    }\n",
       "\n",
       "    .dataframe tbody tr th {\n",
       "        vertical-align: top;\n",
       "    }\n",
       "\n",
       "    .dataframe thead th {\n",
       "        text-align: right;\n",
       "    }\n",
       "</style>\n",
       "<table border=\"1\" class=\"dataframe\">\n",
       "  <thead>\n",
       "    <tr style=\"text-align: right;\">\n",
       "      <th></th>\n",
       "      <th>body</th>\n",
       "      <th>title</th>\n",
       "      <th>url</th>\n",
       "      <th>newspaper_uid</th>\n",
       "      <th>host</th>\n",
       "      <th>n_tokens_title</th>\n",
       "    </tr>\n",
       "    <tr>\n",
       "      <th>uid</th>\n",
       "      <th></th>\n",
       "      <th></th>\n",
       "      <th></th>\n",
       "      <th></th>\n",
       "      <th></th>\n",
       "      <th></th>\n",
       "    </tr>\n",
       "  </thead>\n",
       "  <tbody>\n",
       "    <tr>\n",
       "      <th>672acc53d38f65d859d66f21bd20e726</th>\n",
       "      <td>Este jueves 14 ...</td>\n",
       "      <td>Detienen a uno d...</td>\n",
       "      <td>https://sanluis....</td>\n",
       "      <td>el_universal</td>\n",
       "      <td>sanluis.eluniver...</td>\n",
       "      <td>9</td>\n",
       "    </tr>\n",
       "  </tbody>\n",
       "</table>\n",
       "</div>"
      ],
      "text/plain": [
       "                                     body  \\\n",
       "uid                                         \n",
       "672acc53d38f65d85...   Este jueves 14 ...   \n",
       "\n",
       "                                    title  \\\n",
       "uid                                         \n",
       "672acc53d38f65d85...  Detienen a uno d...   \n",
       "\n",
       "                                      url  \\\n",
       "uid                                         \n",
       "672acc53d38f65d85...  https://sanluis....   \n",
       "\n",
       "                     newspaper_uid  \\\n",
       "uid                                  \n",
       "672acc53d38f65d85...  el_universal   \n",
       "\n",
       "                                     host  \\\n",
       "uid                                         \n",
       "672acc53d38f65d85...  sanluis.eluniver...   \n",
       "\n",
       "                      n_tokens_title  \n",
       "uid                                   \n",
       "672acc53d38f65d85...               9  "
      ]
     },
     "execution_count": 51,
     "metadata": {},
     "output_type": "execute_result"
    }
   ],
   "source": [
    "noticias_df.iloc[[0]]"
   ]
  },
  {
   "cell_type": "code",
   "execution_count": 53,
   "metadata": {},
   "outputs": [],
   "source": [
    "noticias_df = pd.concat((noticias_df,noticias_df.iloc[[0]]))\n"
   ]
  },
  {
   "cell_type": "code",
   "execution_count": 54,
   "metadata": {},
   "outputs": [
    {
     "data": {
      "text/html": [
       "<div>\n",
       "<style scoped>\n",
       "    .dataframe tbody tr th:only-of-type {\n",
       "        vertical-align: middle;\n",
       "    }\n",
       "\n",
       "    .dataframe tbody tr th {\n",
       "        vertical-align: top;\n",
       "    }\n",
       "\n",
       "    .dataframe thead th {\n",
       "        text-align: right;\n",
       "    }\n",
       "</style>\n",
       "<table border=\"1\" class=\"dataframe\">\n",
       "  <thead>\n",
       "    <tr style=\"text-align: right;\">\n",
       "      <th></th>\n",
       "      <th>body</th>\n",
       "      <th>title</th>\n",
       "      <th>url</th>\n",
       "      <th>newspaper_uid</th>\n",
       "      <th>host</th>\n",
       "      <th>n_tokens_title</th>\n",
       "    </tr>\n",
       "    <tr>\n",
       "      <th>uid</th>\n",
       "      <th></th>\n",
       "      <th></th>\n",
       "      <th></th>\n",
       "      <th></th>\n",
       "      <th></th>\n",
       "      <th></th>\n",
       "    </tr>\n",
       "  </thead>\n",
       "  <tbody>\n",
       "    <tr>\n",
       "      <th>672acc53d38f65d859d66f21bd20e726</th>\n",
       "      <td>Este jueves 14 ...</td>\n",
       "      <td>Detienen a uno d...</td>\n",
       "      <td>https://sanluis....</td>\n",
       "      <td>el_universal</td>\n",
       "      <td>sanluis.eluniver...</td>\n",
       "      <td>9</td>\n",
       "    </tr>\n",
       "    <tr>\n",
       "      <th>73ca710dc260bc439f95df00f0835cd5</th>\n",
       "      <td>En su pasada vis...</td>\n",
       "      <td>Crisis no se enf...</td>\n",
       "      <td>https://www.elun...</td>\n",
       "      <td>el_universal</td>\n",
       "      <td>www.eluniversal....</td>\n",
       "      <td>11</td>\n",
       "    </tr>\n",
       "    <tr>\n",
       "      <th>441fa5a4b3b7718c0e15d86578cbba8d</th>\n",
       "      <td>Semarnat negó a ...</td>\n",
       "      <td>Semarnat, tache</td>\n",
       "      <td>http://www.eluni...</td>\n",
       "      <td>el_universal</td>\n",
       "      <td>www.eluniversal....</td>\n",
       "      <td>2</td>\n",
       "    </tr>\n",
       "    <tr>\n",
       "      <th>...</th>\n",
       "      <td>...</td>\n",
       "      <td>...</td>\n",
       "      <td>...</td>\n",
       "      <td>...</td>\n",
       "      <td>...</td>\n",
       "      <td>...</td>\n",
       "    </tr>\n",
       "    <tr>\n",
       "      <th>f09b395f23f67a774870ba261077127f</th>\n",
       "      <td>La devastación a...</td>\n",
       "      <td>Urge un Tribunal...</td>\n",
       "      <td>http://www.eluni...</td>\n",
       "      <td>el_universal</td>\n",
       "      <td>www.eluniversal....</td>\n",
       "      <td>3</td>\n",
       "    </tr>\n",
       "    <tr>\n",
       "      <th>f9d690aac591e3fbc791ba19e357ef43</th>\n",
       "      <td>La Copa del Mund...</td>\n",
       "      <td>Gerardo Martino ...</td>\n",
       "      <td>https://www.elun...</td>\n",
       "      <td>el_universal</td>\n",
       "      <td>www.eluniversal....</td>\n",
       "      <td>7</td>\n",
       "    </tr>\n",
       "    <tr>\n",
       "      <th>672acc53d38f65d859d66f21bd20e726</th>\n",
       "      <td>Este jueves 14 ...</td>\n",
       "      <td>Detienen a uno d...</td>\n",
       "      <td>https://sanluis....</td>\n",
       "      <td>el_universal</td>\n",
       "      <td>sanluis.eluniver...</td>\n",
       "      <td>9</td>\n",
       "    </tr>\n",
       "  </tbody>\n",
       "</table>\n",
       "<p>29 rows × 6 columns</p>\n",
       "</div>"
      ],
      "text/plain": [
       "                                     body  \\\n",
       "uid                                         \n",
       "672acc53d38f65d85...   Este jueves 14 ...   \n",
       "73ca710dc260bc439...  En su pasada vis...   \n",
       "441fa5a4b3b7718c0...  Semarnat negó a ...   \n",
       "...                                   ...   \n",
       "f09b395f23f67a774...  La devastación a...   \n",
       "f9d690aac591e3fbc...  La Copa del Mund...   \n",
       "672acc53d38f65d85...   Este jueves 14 ...   \n",
       "\n",
       "                                    title  \\\n",
       "uid                                         \n",
       "672acc53d38f65d85...  Detienen a uno d...   \n",
       "73ca710dc260bc439...  Crisis no se enf...   \n",
       "441fa5a4b3b7718c0...      Semarnat, tache   \n",
       "...                                   ...   \n",
       "f09b395f23f67a774...  Urge un Tribunal...   \n",
       "f9d690aac591e3fbc...  Gerardo Martino ...   \n",
       "672acc53d38f65d85...  Detienen a uno d...   \n",
       "\n",
       "                                      url  \\\n",
       "uid                                         \n",
       "672acc53d38f65d85...  https://sanluis....   \n",
       "73ca710dc260bc439...  https://www.elun...   \n",
       "441fa5a4b3b7718c0...  http://www.eluni...   \n",
       "...                                   ...   \n",
       "f09b395f23f67a774...  http://www.eluni...   \n",
       "f9d690aac591e3fbc...  https://www.elun...   \n",
       "672acc53d38f65d85...  https://sanluis....   \n",
       "\n",
       "                     newspaper_uid  \\\n",
       "uid                                  \n",
       "672acc53d38f65d85...  el_universal   \n",
       "73ca710dc260bc439...  el_universal   \n",
       "441fa5a4b3b7718c0...  el_universal   \n",
       "...                            ...   \n",
       "f09b395f23f67a774...  el_universal   \n",
       "f9d690aac591e3fbc...  el_universal   \n",
       "672acc53d38f65d85...  el_universal   \n",
       "\n",
       "                                     host  \\\n",
       "uid                                         \n",
       "672acc53d38f65d85...  sanluis.eluniver...   \n",
       "73ca710dc260bc439...  www.eluniversal....   \n",
       "441fa5a4b3b7718c0...  www.eluniversal....   \n",
       "...                                   ...   \n",
       "f09b395f23f67a774...  www.eluniversal....   \n",
       "f9d690aac591e3fbc...  www.eluniversal....   \n",
       "672acc53d38f65d85...  sanluis.eluniver...   \n",
       "\n",
       "                      n_tokens_title  \n",
       "uid                                   \n",
       "672acc53d38f65d85...               9  \n",
       "73ca710dc260bc439...              11  \n",
       "441fa5a4b3b7718c0...               2  \n",
       "...                              ...  \n",
       "f09b395f23f67a774...               3  \n",
       "f9d690aac591e3fbc...               7  \n",
       "672acc53d38f65d85...               9  \n",
       "\n",
       "[29 rows x 6 columns]"
      ]
     },
     "execution_count": 54,
     "metadata": {},
     "output_type": "execute_result"
    }
   ],
   "source": [
    "noticias_df"
   ]
  },
  {
   "cell_type": "code",
   "execution_count": null,
   "metadata": {},
   "outputs": [],
   "source": [
    "noticias_df.drop_duplicates(subset=['title'], keep='first', inplace='true')"
   ]
  }
 ],
 "metadata": {
  "kernelspec": {
   "display_name": "Python 3.10.4 ('ds')",
   "language": "python",
   "name": "python3"
  },
  "language_info": {
   "codemirror_mode": {
    "name": "ipython",
    "version": 3
   },
   "file_extension": ".py",
   "mimetype": "text/x-python",
   "name": "python",
   "nbconvert_exporter": "python",
   "pygments_lexer": "ipython3",
   "version": "3.10.4"
  },
  "orig_nbformat": 4,
  "vscode": {
   "interpreter": {
    "hash": "71dda1f36ff01dd8280b241c9bbd2200903794e3fcef25f2dfa7d2687b44f136"
   }
  }
 },
 "nbformat": 4,
 "nbformat_minor": 2
}
