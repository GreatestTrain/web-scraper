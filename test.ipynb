{
 "cells": [
  {
   "cell_type": "code",
   "execution_count": 2,
   "metadata": {},
   "outputs": [],
   "source": [
    "import pandas as pd"
   ]
  },
  {
   "cell_type": "code",
   "execution_count": 5,
   "metadata": {},
   "outputs": [
    {
     "data": {
      "text/html": [
       "<div>\n",
       "<style scoped>\n",
       "    .dataframe tbody tr th:only-of-type {\n",
       "        vertical-align: middle;\n",
       "    }\n",
       "\n",
       "    .dataframe tbody tr th {\n",
       "        vertical-align: top;\n",
       "    }\n",
       "\n",
       "    .dataframe thead th {\n",
       "        text-align: right;\n",
       "    }\n",
       "</style>\n",
       "<table border=\"1\" class=\"dataframe\">\n",
       "  <thead>\n",
       "    <tr style=\"text-align: right;\">\n",
       "      <th></th>\n",
       "      <th>body</th>\n",
       "      <th>title</th>\n",
       "      <th>url</th>\n",
       "    </tr>\n",
       "  </thead>\n",
       "  <tbody>\n",
       "    <tr>\n",
       "      <th>0</th>\n",
       "      <td>Son tres investigaciones penales que enfrenta ...</td>\n",
       "      <td>NaN</td>\n",
       "      <td>https://elcomercio.pe/politica/gobierno/pedro-...</td>\n",
       "    </tr>\n",
       "    <tr>\n",
       "      <th>1</th>\n",
       "      <td>Según el Código Penal peruano, las personas me...</td>\n",
       "      <td>Adolescentes infractores a prisión: ¿es viable...</td>\n",
       "      <td>https://elcomercio.pe/lima/sucesos/adolescente...</td>\n",
       "    </tr>\n",
       "  </tbody>\n",
       "</table>\n",
       "</div>"
      ],
      "text/plain": [
       "                                                body  \\\n",
       "0  Son tres investigaciones penales que enfrenta ...   \n",
       "1  Según el Código Penal peruano, las personas me...   \n",
       "\n",
       "                                               title  \\\n",
       "0                                                NaN   \n",
       "1  Adolescentes infractores a prisión: ¿es viable...   \n",
       "\n",
       "                                                 url  \n",
       "0  https://elcomercio.pe/politica/gobierno/pedro-...  \n",
       "1  https://elcomercio.pe/lima/sucesos/adolescente...  "
      ]
     },
     "execution_count": 5,
     "metadata": {},
     "output_type": "execute_result"
    }
   ],
   "source": [
    "comercio_df = pd.read_csv('./web_scraper/elcomerciope_2022_07_16_articles.csv')\n",
    "comercio_df.head(2)"
   ]
  },
  {
   "cell_type": "code",
   "execution_count": 7,
   "metadata": {},
   "outputs": [
    {
     "data": {
      "text/plain": [
       "'Son tres investigaciones penales que enfrenta el presidente Pedro Castillo en la fiscalía en menos de un año de haber llegado a Palacio. Cada caso es más comprometedor que el otro, con actores y delitos diferentes, pero comparten un mismo punto de partida: el mandatario como el principal responsable.'"
      ]
     },
     "execution_count": 7,
     "metadata": {},
     "output_type": "execute_result"
    }
   ],
   "source": [
    "comercio_df.loc[0, 'body']"
   ]
  }
 ],
 "metadata": {
  "kernelspec": {
   "display_name": "Python 3.10.4 ('ds')",
   "language": "python",
   "name": "python3"
  },
  "language_info": {
   "codemirror_mode": {
    "name": "ipython",
    "version": 3
   },
   "file_extension": ".py",
   "mimetype": "text/x-python",
   "name": "python",
   "nbconvert_exporter": "python",
   "pygments_lexer": "ipython3",
   "version": "3.10.4"
  },
  "orig_nbformat": 4,
  "vscode": {
   "interpreter": {
    "hash": "71dda1f36ff01dd8280b241c9bbd2200903794e3fcef25f2dfa7d2687b44f136"
   }
  }
 },
 "nbformat": 4,
 "nbformat_minor": 2
}
