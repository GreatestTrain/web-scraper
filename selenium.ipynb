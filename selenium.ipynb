{
 "cells": [
  {
   "cell_type": "code",
   "execution_count": 102,
   "metadata": {},
   "outputs": [],
   "source": [
    "import selenium\n",
    "import requests\n",
    "from bs4 import BeautifulSoup\n",
    "from time import sleep"
   ]
  },
  {
   "cell_type": "code",
   "execution_count": 103,
   "metadata": {},
   "outputs": [],
   "source": [
    "URL = \"https://www.latamairlines.com/pe/es/ofertas-vuelos?origin=LIM&inbound=2023-02-28T17%3A00%3A00.000Z&outbound=2022-12-18T17%3A00%3A00.000Z&destination=MAD&adt=1&chd=0&inf=0&trip=RT&cabin=Economy&redemption=false&sort=RECOMMENDED\""
   ]
  },
  {
   "cell_type": "code",
   "execution_count": 104,
   "metadata": {},
   "outputs": [],
   "source": [
    "from selenium import webdriver"
   ]
  },
  {
   "cell_type": "code",
   "execution_count": 105,
   "metadata": {},
   "outputs": [],
   "source": [
    "agent = {\"User-Agent\":\"Mozilla/5.0\"}\n",
    "r = requests.get(URL, agent)\n",
    "s = BeautifulSoup(r.text, 'lxml')"
   ]
  },
  {
   "cell_type": "code",
   "execution_count": 107,
   "metadata": {},
   "outputs": [],
   "source": [
    "# options = webdriver.FirefoxOptions()\n",
    "# options.add_argument('--incognito')\n",
    "driver = webdriver.Firefox(executable_path='driver/geckodriver.exe')"
   ]
  },
  {
   "cell_type": "code",
   "execution_count": 108,
   "metadata": {},
   "outputs": [],
   "source": [
    "driver.get(URL)"
   ]
  },
  {
   "cell_type": "code",
   "execution_count": 109,
   "metadata": {},
   "outputs": [],
   "source": [
    "sleep(1)\n",
    "vuelos = driver.find_elements_by_xpath('//ol[@aria-label=\"Vuelos disponibles.\"]//li[@class=\"sc-bJTOcE dnJSKm\"]')\n",
    "vuelo = vuelos[2]"
   ]
  },
  {
   "cell_type": "code",
   "execution_count": 110,
   "metadata": {},
   "outputs": [],
   "source": [
    "tiempo = vuelo.find_elements_by_xpath('.//div[contains(@class, \"sc-ekHBYt\")]/div[contains(@class, \"flight-information\")]/span[@class=\"sc-eTyWNx ilRvHO\"]')\n",
    "duracion = vuelo.find_element_by_xpath('.//div[contains(@class, \"sc-ekHBYt\")]/div[contains(@class, \"flight-duration\")]/span[@class=\"sc-bsVVwV jAgyHF\"]').text"
   ]
  },
  {
   "cell_type": "code",
   "execution_count": 111,
   "metadata": {},
   "outputs": [
    {
     "name": "stdout",
     "output_type": "stream",
     "text": [
      "Salida: 6:55\n",
      "Llegada: 6:00 +1\n",
      "Duración: 17 h 5 min\n"
     ]
    }
   ],
   "source": [
    "salida = tiempo[0].text\n",
    "llegada = tiempo[1].text.replace(\"\\n\", \" \")\n",
    "print(\"Salida: {}\\nLlegada: {}\\nDuración: {}\".format(salida, llegada, duracion))"
   ]
  },
  {
   "cell_type": "code",
   "execution_count": 112,
   "metadata": {},
   "outputs": [],
   "source": [
    "button_itinerary = vuelo.find_element_by_xpath('.//a[@class=\"sc-iwsKbI xkrrd\"]')"
   ]
  },
  {
   "cell_type": "code",
   "execution_count": 113,
   "metadata": {},
   "outputs": [],
   "source": [
    "button_itinerary.click()"
   ]
  },
  {
   "cell_type": "code",
   "execution_count": 114,
   "metadata": {},
   "outputs": [],
   "source": [
    "segments = vuelo.find_elements_by_xpath(\"//div[contains(@class, 'path-info')]/parent::section\")"
   ]
  },
  {
   "cell_type": "code",
   "execution_count": 115,
   "metadata": {},
   "outputs": [],
   "source": [
    "segment = segments[0]"
   ]
  },
  {
   "cell_type": "code",
   "execution_count": 116,
   "metadata": {},
   "outputs": [],
   "source": [
    "avion = segment.find_element_by_xpath('.//span[@class=\"airplane-code\"]').text"
   ]
  },
  {
   "cell_type": "code",
   "execution_count": 117,
   "metadata": {},
   "outputs": [],
   "source": [
    "salida = segment.find_element_by_xpath(\".//div[contains(@class,'sc-ldcLGC')]\")\n",
    "llegada = segment.find_element_by_xpath(\".//div[contains(@class,'sc-hTQSVH')]\")"
   ]
  },
  {
   "cell_type": "code",
   "execution_count": 118,
   "metadata": {},
   "outputs": [],
   "source": [
    "origen = salida.find_element_by_xpath('./div[@class=\"iataCode\"]/span').text\n",
    "tiempo = salida.find_element_by_xpath('./div[@class=\"iataCode\"]/span[@class=\"time\"]').text\n",
    "aeropuerto = salida.find_element_by_xpath('.//span[@class=\"ariport-name\"]').text"
   ]
  },
  {
   "cell_type": "code",
   "execution_count": 119,
   "metadata": {},
   "outputs": [],
   "source": [
    "driver.find_element_by_xpath('//div[@class=\"MuiDialog-container MuiDialog-scrollPaper\"]').click()"
   ]
  },
  {
   "cell_type": "code",
   "execution_count": 120,
   "metadata": {},
   "outputs": [],
   "source": [
    "vuelo.click()"
   ]
  },
  {
   "cell_type": "code",
   "execution_count": 121,
   "metadata": {},
   "outputs": [],
   "source": [
    "tabla_tarifas = driver.find_element_by_xpath('//ol[@aria-label=\"Tarifas disponibles.\"]')"
   ]
  },
  {
   "cell_type": "code",
   "execution_count": 122,
   "metadata": {},
   "outputs": [
    {
     "data": {
      "text/plain": [
       "{'1493.21': 'USD', '1694.99': 'USD', '4490.41': 'USD'}"
      ]
     },
     "execution_count": 122,
     "metadata": {},
     "output_type": "execute_result"
    }
   ],
   "source": [
    "monedas = tabla_tarifas.find_elements_by_xpath('.//span[contains(@class, \"currency\")]')\n",
    "tarifas = tabla_tarifas.find_elements_by_xpath('.//span[@class=\"sc-ccvjgv ddOTqA\"]')\n",
    "tarifas = list(map(lambda x: x.text, tarifas))\n",
    "monedas = list(map(lambda x: x.text, monedas))\n",
    "dict(zip(tarifas, monedas))"
   ]
  },
  {
   "cell_type": "code",
   "execution_count": 207,
   "metadata": {},
   "outputs": [],
   "source": [
    "def getPrecios(vuelo):\n",
    "    '''\n",
    "    Función que retorna los precios de un vuelo con el siguiente orden (tarifas, monedas, tiers).\n",
    "    '''\n",
    "    vuelo.click()\n",
    "    tabla_tarifas = driver.find_element_by_xpath('//ol[@aria-label=\"Tarifas disponibles.\"]')\n",
    "    monedas = tabla_tarifas.find_elements_by_xpath('.//span[contains(@class, \"currency\")]')\n",
    "    tarifas = tabla_tarifas.find_elements_by_xpath('.//span[@class=\"sc-ccvjgv ddOTqA\"]')\n",
    "    tier = tabla_tarifas.find_elements_by_xpath('.//span[@class=\"sc-igaqVs kvfVRk\"]')\n",
    "    tarifas = list(map(lambda x: x.text, tarifas))\n",
    "    monedas = list(map(lambda x: x.text, monedas))\n",
    "    tier = list(map(lambda x: x.text, tier))\n",
    "    button = vuelo.find_element_by_xpath('.//button[contains(@class,\"MuiButton-disableElevation\")]')\n",
    "    button.click()\n",
    "    return list(zip(tarifas, monedas, tier))"
   ]
  },
  {
   "cell_type": "code",
   "execution_count": 221,
   "metadata": {},
   "outputs": [],
   "source": [
    "def getSecciones(segment):\n",
    "    salida = segment.find_element_by_xpath(\".//div[contains(@class,'sc-ldcLGC')]\")\n",
    "    llegada = segment.find_element_by_xpath(\".//div[contains(@class,'sc-hTQSVH')]\")\n",
    "    avion = segment.find_element_by_xpath('.//span[@class=\"airplane-code\"]').text\n",
    "    duracion = segment.find_element_by_xpath('.//span[@class=\"ariport-name\"]').text\n",
    "    # avion = segment.find_element_by_xpath('.//span[@class=\"airplane-code\"]').text\n",
    "    # duration = segment.find_element_by_xpath('.//span[contains(@class, \"pathInfo-duration\")]/parent::*/span[@class=\"time\"]').text\n",
    "    return {'salida': getDatos(salida),\n",
    "            'llegada': getDatos(llegada),\n",
    "            'avion': avion,\n",
    "            'duracion': duracion}"
   ]
  },
  {
   "cell_type": "code",
   "execution_count": 208,
   "metadata": {},
   "outputs": [],
   "source": [
    "def getDatos(seccion):\n",
    "    origen = seccion.find_element_by_xpath('./div[@class=\"iataCode\"]/span').text\n",
    "    tiempo = seccion.find_element_by_xpath('./div[@class=\"iataCode\"]/span[@class=\"time\"]').text\n",
    "    aeropuerto = seccion.find_element_by_xpath('.//span[@class=\"ariport-name\"]').text\n",
    "    \n",
    "    return {'origen': origen, 'tiempo': tiempo, 'aeropuerto': aeropuerto}"
   ]
  },
  {
   "cell_type": "code",
   "execution_count": 209,
   "metadata": {},
   "outputs": [],
   "source": [
    "def getSegmentos(segmentos):\n",
    "    a_list = [getSecciones(segmento) for segmento in segmentos]\n",
    "    return a_list"
   ]
  },
  {
   "cell_type": "code",
   "execution_count": 233,
   "metadata": {},
   "outputs": [],
   "source": [
    "from selenium.webdriver.support.ui import WebDriverWait\n",
    "from selenium.webdriver.support import expected_conditions as EC\n",
    "from selenium.webdriver.common.by import By\n",
    "from selenium.common.exceptions import TimeoutException"
   ]
  },
  {
   "cell_type": "code",
   "execution_count": 210,
   "metadata": {},
   "outputs": [],
   "source": [
    "def getInfoVuelo(vuelo, delay=1):\n",
    "    close_itinerary = None\n",
    "    try:\n",
    "        tiempo = vuelo.find_elements_by_xpath('.//div[contains(@class, \"sc-ekHBYt\")]/div[contains(@class, \"flight-information\")]/span[@class=\"sc-eTyWNx ilRvHO\"]')\n",
    "        duracion = vuelo.find_element_by_xpath('.//div[contains(@class, \"sc-ekHBYt\")]/div[contains(@class, \"flight-duration\")]/span[@class=\"sc-bsVVwV jAgyHF\"]').text\n",
    "        salida = tiempo[0].text\n",
    "        llegada = tiempo[1].text.replace(\"\\n\", \" \")\n",
    "        \n",
    "        precios = getPrecios(vuelo)\n",
    "        button_itinerary = vuelo.find_element_by_xpath('.//a[@class=\"sc-iwsKbI xkrrd\"]')\n",
    "        button_itinerary.click()\n",
    "        sleep(delay)\n",
    "        segments = vuelo.find_elements_by_xpath(\"//div[contains(@class, 'path-info')]/parent::section\")\n",
    "        segments = getSegmentos(segments)\n",
    "        \n",
    "        return { 'Tiempo': {'Salida': salida, 'Llegada': llegada, 'Duración': duracion},\n",
    "                'Precios': precios,\n",
    "                'Segmentos': segments}\n",
    "    except Exception as e:\n",
    "        print(e)\n",
    "    finally:\n",
    "        close_itinerary = driver.find_element_by_xpath('//div[@class=\"MuiDialog-container MuiDialog-scrollPaper\"]')\n",
    "        close_itinerary.click()\n",
    "    # finally:\n",
    "    #     close_itinerary = driver.find_element_by_xpath('//button[@id=\"itinerary-modal-0-dialog-title-close\"]')\n",
    "    #     close_itinerary.click()"
   ]
  },
  {
   "cell_type": "code",
   "execution_count": 130,
   "metadata": {},
   "outputs": [],
   "source": [
    "from tabulate import tabulate\n",
    "from IPython.display import HTML"
   ]
  },
  {
   "cell_type": "code",
   "execution_count": 190,
   "metadata": {},
   "outputs": [],
   "source": [
    "def pprint(info):\n",
    "    style=\"pretty\"\n",
    "    string = \"\"\n",
    "    string += (\"Tiempo\") + \"\\n\"\n",
    "    string += (tabulate(info['Tiempo'].items(), tablefmt=style)) + \"\\n\"\n",
    "    string += tabulate(info['Precios'], headers=['Precio', 'Moneda', 'Tier'], tablefmt=style) + \"\\n\"\n",
    "    for i in info['Segmentos']:\n",
    "        string += (tabulate(i['salida'].items(), tablefmt=style)) + \"\\n\"\n",
    "        string += (tabulate(i['llegada'].items(), tablefmt=style)) + \"\\n\"\n",
    "        # string += (tabulate(zip([i['avion']], [i['duracion']]), headers=['avion', 'duracion'], tablefmt=style)) + \"\\n\"\n",
    "        return string"
   ]
  },
  {
   "cell_type": "code",
   "execution_count": 238,
   "metadata": {},
   "outputs": [
    {
     "name": "stdout",
     "output_type": "stream",
     "text": [
      "La pagina se tardo demasiado\n"
     ]
    }
   ],
   "source": [
    "driver = webdriver.Firefox(executable_path='driver/geckodriver.exe')\n",
    "driver.get(URL)\n",
    "delay = 10\n",
    "try:\n",
    "    vuelo = WebDriverWait(driver, delay).until(EC.presence_of_element_located((By.XPATH, '//li[@class=\"sc-bJTOcE dnJSKm\"')))\n",
    "    print(\"La pagina cargo\")\n",
    "except TimeoutException as te:\n",
    "    print('La pagina se tardo demasiado')"
   ]
  },
  {
   "cell_type": "code",
   "execution_count": 232,
   "metadata": {},
   "outputs": [
    {
     "name": "stdout",
     "output_type": "stream",
     "text": [
      "Vuelo 0\n",
      "Vuelo 1\n",
      "Vuelo 2\n",
      "Vuelo 3\n",
      "Vuelo 4\n",
      "Vuelo 5\n",
      "Vuelo 6\n",
      "Vuelo 7\n",
      "Vuelo 8\n",
      "Vuelo 9\n",
      "Vuelo 10\n",
      "Vuelo 11\n",
      "Vuelo 12\n",
      "Vuelo 13\n",
      "Vuelo 14\n",
      "Vuelo 15\n",
      "Vuelo 16\n",
      "Vuelo 17\n",
      "Vuelo 18\n",
      "Vuelo 19\n",
      "Vuelo 20\n",
      "Vuelo 21\n",
      "Vuelo 22\n",
      "Message: Element <li class=\"sc-bJTOcE dnJSKm\"> is not clickable at point (408,470) because another element <div class=\"MuiDialog-container MuiDialog-scrollPaper\"> obscures it\n",
      "\n",
      "Vuelo 23\n",
      "Vuelo 24\n",
      "Vuelo 25\n",
      "Vuelo 26\n",
      "Vuelo 27\n",
      "Vuelo 28\n",
      "Message: Element <li class=\"sc-bJTOcE dnJSKm\"> is not clickable at point (408,470) because another element <div class=\"MuiBackdrop-root\"> obscures it\n",
      "\n",
      "Vuelo 29\n"
     ]
    }
   ],
   "source": [
    "info = []\n",
    "for idx, vuelo in enumerate(vuelos):\n",
    "    info.append(getInfoVuelo(vuelo, delay=1.1))\n",
    "    print(f\"Vuelo {idx}\")"
   ]
  },
  {
   "cell_type": "code",
   "execution_count": 222,
   "metadata": {},
   "outputs": [],
   "source": [
    "test = getInfoVuelo(vuelos[28])"
   ]
  },
  {
   "cell_type": "code",
   "execution_count": 226,
   "metadata": {},
   "outputs": [
    {
     "data": {
      "text/plain": [
       "{'salida': {'origen': 'GRU',\n",
       "  'tiempo': '15:40',\n",
       "  'aeropuerto': 'Guarulhos Intl.'},\n",
       " 'llegada': {'origen': 'MAD', 'tiempo': '6:00', 'aeropuerto': 'Barajas Intl.'},\n",
       " 'avion': 'Airbus A330',\n",
       " 'duracion': 'Guarulhos Intl.'}"
      ]
     },
     "execution_count": 226,
     "metadata": {},
     "output_type": "execute_result"
    }
   ],
   "source": [
    "test['Segmentos'][3]"
   ]
  },
  {
   "cell_type": "code",
   "execution_count": null,
   "metadata": {},
   "outputs": [],
   "source": [
    "driver.close()"
   ]
  }
 ],
 "metadata": {
  "kernelspec": {
   "display_name": "Python 3.10.4 ('ds')",
   "language": "python",
   "name": "python3"
  },
  "language_info": {
   "codemirror_mode": {
    "name": "ipython",
    "version": 3
   },
   "file_extension": ".py",
   "mimetype": "text/x-python",
   "name": "python",
   "nbconvert_exporter": "python",
   "pygments_lexer": "ipython3",
   "version": "3.10.4"
  },
  "orig_nbformat": 4,
  "vscode": {
   "interpreter": {
    "hash": "71dda1f36ff01dd8280b241c9bbd2200903794e3fcef25f2dfa7d2687b44f136"
   }
  }
 },
 "nbformat": 4,
 "nbformat_minor": 2
}
