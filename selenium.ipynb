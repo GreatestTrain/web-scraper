{
 "cells": [
  {
   "cell_type": "code",
   "execution_count": 235,
   "metadata": {},
   "outputs": [],
   "source": [
    "import selenium\n",
    "import requests\n",
    "from bs4 import BeautifulSoup"
   ]
  },
  {
   "cell_type": "code",
   "execution_count": 236,
   "metadata": {},
   "outputs": [],
   "source": [
    "URL = \"https://www.latamairlines.com/pe/es/ofertas-vuelos?origin=LIM&inbound=2023-02-28T17%3A00%3A00.000Z&outbound=2022-12-18T17%3A00%3A00.000Z&destination=MAD&adt=1&chd=0&inf=0&trip=RT&cabin=Economy&redemption=false&sort=RECOMMENDED\""
   ]
  },
  {
   "cell_type": "code",
   "execution_count": 237,
   "metadata": {},
   "outputs": [],
   "source": [
    "from selenium import webdriver"
   ]
  },
  {
   "cell_type": "code",
   "execution_count": 238,
   "metadata": {},
   "outputs": [],
   "source": [
    "agent = {\"User-Agent\":\"Mozilla/5.0\"}\n",
    "r = requests.get(URL, agent)\n",
    "s = BeautifulSoup(r.text, 'lxml')"
   ]
  },
  {
   "cell_type": "code",
   "execution_count": 239,
   "metadata": {},
   "outputs": [],
   "source": [
    "# options = webdriver.FirefoxOptions()\n",
    "# options.add_argument('--incognito')\n",
    "driver = webdriver.Firefox(executable_path='driver/geckodriver.exe')"
   ]
  },
  {
   "cell_type": "code",
   "execution_count": 240,
   "metadata": {},
   "outputs": [],
   "source": [
    "driver.get(URL)"
   ]
  },
  {
   "cell_type": "code",
   "execution_count": 241,
   "metadata": {},
   "outputs": [],
   "source": [
    "vuelos = driver.find_elements_by_xpath('//ol[@aria-label=\"Vuelos disponibles.\"]//li[@class=\"sc-bJTOcE dnJSKm\"]')\n",
    "vuelo = vuelos[2]"
   ]
  },
  {
   "cell_type": "code",
   "execution_count": 297,
   "metadata": {},
   "outputs": [],
   "source": [
    "from time import sleep"
   ]
  },
  {
   "cell_type": "code",
   "execution_count": 298,
   "metadata": {},
   "outputs": [],
   "source": [
    "def getInfoVuelo(vuelo, delay=1):\n",
    "    precios = getPrecios(vuelo)\n",
    "    button_itinerary = vuelo.find_element_by_xpath('.//a[@class=\"sc-iwsKbI xkrrd\"]')\n",
    "    button_itinerary.click()\n",
    "    sleep(delay)\n",
    "    segments = vuelo.find_elements_by_xpath(\"//div[contains(@class, 'path-info')]/parent::section\")\n",
    "    segments = getSegmentos(segments)\n",
    "    close_itinerary = driver.find_element_by_xpath('//div[@class=\"MuiDialog-container MuiDialog-scrollPaper\"]')\n",
    "    close_itinerary.click()\n",
    "    sleep(delay)\n",
    "    tiempo = vuelo.find_elements_by_xpath('.//div[contains(@class, \"sc-ekHBYt\")]/div[contains(@class, \"flight-information\")]/span[@class=\"sc-eTyWNx ilRvHO\"]')\n",
    "    duracion = vuelo.find_element_by_xpath('.//div[contains(@class, \"sc-ekHBYt\")]/div[contains(@class, \"flight-duration\")]/span[@class=\"sc-bsVVwV jAgyHF\"]').text\n",
    "    salida = tiempo[0].text\n",
    "    llegada = tiempo[1].text.replace(\"\\n\", \" \")\n",
    "    return { 'Tiempo': {'Salida': salida, 'Llegada': llegada, 'Duración': duracion},\n",
    "             'Precios': precios,\n",
    "             'Segmentos': segments}"
   ]
  },
  {
   "cell_type": "code",
   "execution_count": 306,
   "metadata": {},
   "outputs": [
    {
     "data": {
      "text/plain": [
       "{'Tiempo': {'Salida': '21:10',\n",
       "  'Llegada': '14:30 +1',\n",
       "  'Duración': '11 h 20 min'},\n",
       " 'Precios': [('877.25', 'USD', 'plus'),\n",
       "  ('1033.01', 'USD', 'top'),\n",
       "  ('1859.01', 'USD', 'top')],\n",
       " 'Segmentos': [{'salida': {'origen': 'LIM',\n",
       "    'tiempo': '21:10',\n",
       "    'aeropuerto': 'J Chavez Intl.'},\n",
       "   'llegada': {'origen': 'MAD',\n",
       "    'tiempo': '14:30',\n",
       "    'aeropuerto': 'Barajas Intl.'},\n",
       "   'avion': 'Airbus A350-900',\n",
       "   'duracion': '11 h 20 min'}]}"
      ]
     },
     "execution_count": 306,
     "metadata": {},
     "output_type": "execute_result"
    }
   ],
   "source": [
    "getInfoVuelo(vuelos[0], 0.6)"
   ]
  },
  {
   "cell_type": "code",
   "execution_count": 242,
   "metadata": {},
   "outputs": [],
   "source": [
    "tiempo = vuelo.find_elements_by_xpath('.//div[contains(@class, \"sc-ekHBYt\")]/div[contains(@class, \"flight-information\")]/span[@class=\"sc-eTyWNx ilRvHO\"]')\n",
    "duracion = vuelo.find_element_by_xpath('.//div[contains(@class, \"sc-ekHBYt\")]/div[contains(@class, \"flight-duration\")]/span[@class=\"sc-bsVVwV jAgyHF\"]').text"
   ]
  },
  {
   "cell_type": "code",
   "execution_count": 243,
   "metadata": {},
   "outputs": [
    {
     "name": "stdout",
     "output_type": "stream",
     "text": [
      "Salida: 6:55\n",
      "Llegada: 6:00 +1\n",
      "Duración: 17 h 5 min\n"
     ]
    }
   ],
   "source": [
    "salida = tiempo[0].text\n",
    "llegada = tiempo[1].text.replace(\"\\n\", \" \")\n",
    "print(\"Salida: {}\\nLlegada: {}\\nDuración: {}\".format(salida, llegada, duracion))"
   ]
  },
  {
   "cell_type": "code",
   "execution_count": 244,
   "metadata": {},
   "outputs": [],
   "source": [
    "button_itinerary = vuelo.find_element_by_xpath('.//a[@class=\"sc-iwsKbI xkrrd\"]')"
   ]
  },
  {
   "cell_type": "code",
   "execution_count": 245,
   "metadata": {},
   "outputs": [],
   "source": [
    "button_itinerary.click()"
   ]
  },
  {
   "cell_type": "code",
   "execution_count": 246,
   "metadata": {},
   "outputs": [],
   "source": [
    "segments = vuelo.find_elements_by_xpath(\"//div[contains(@class, 'path-info')]/parent::section\")"
   ]
  },
  {
   "cell_type": "code",
   "execution_count": 291,
   "metadata": {},
   "outputs": [],
   "source": [
    "def getSegmentos(segmentos):\n",
    "    a_list = [getSecciones(segmento) for segmento in segmentos]\n",
    "    return a_list"
   ]
  },
  {
   "cell_type": "code",
   "execution_count": 293,
   "metadata": {},
   "outputs": [
    {
     "data": {
      "text/plain": [
       "[{'salida': {'origen': 'LIM',\n",
       "   'tiempo': '6:55',\n",
       "   'aeropuerto': 'J Chavez Intl.'},\n",
       "  'llegada': {'origen': 'SCL',\n",
       "   'tiempo': '11:30',\n",
       "   'aeropuerto': 'A. Merino Benitez Intl.'},\n",
       "  'avion': 'Airbus A320',\n",
       "  'duracion': '2 h 35 min'},\n",
       " {'salida': {'origen': 'SCL',\n",
       "   'tiempo': '13:20',\n",
       "   'aeropuerto': 'A. Merino Benitez Intl.'},\n",
       "  'llegada': {'origen': 'MAD',\n",
       "   'tiempo': '6:00',\n",
       "   'aeropuerto': 'Barajas Intl.'},\n",
       "  'avion': 'Airbus A350-900',\n",
       "  'duracion': '12 h 40 min'}]"
      ]
     },
     "execution_count": 293,
     "metadata": {},
     "output_type": "execute_result"
    }
   ],
   "source": [
    "getSegmentos(segments)"
   ]
  },
  {
   "cell_type": "code",
   "execution_count": 247,
   "metadata": {},
   "outputs": [],
   "source": [
    "segment = segments[0]"
   ]
  },
  {
   "cell_type": "code",
   "execution_count": 248,
   "metadata": {},
   "outputs": [],
   "source": [
    "avion = segment.find_element_by_xpath('.//span[@class=\"airplane-code\"]').text"
   ]
  },
  {
   "cell_type": "code",
   "execution_count": 249,
   "metadata": {},
   "outputs": [],
   "source": [
    "salida = segment.find_element_by_xpath(\".//div[contains(@class,'sc-ldcLGC')]\")\n",
    "llegada = segment.find_element_by_xpath(\".//div[contains(@class,'sc-hTQSVH')]\")"
   ]
  },
  {
   "cell_type": "code",
   "execution_count": 250,
   "metadata": {},
   "outputs": [],
   "source": [
    "origen = salida.find_element_by_xpath('./div[@class=\"iataCode\"]/span').text\n",
    "tiempo = salida.find_element_by_xpath('./div[@class=\"iataCode\"]/span[@class=\"time\"]').text\n",
    "aeropuerto = salida.find_element_by_xpath('.//span[@class=\"ariport-name\"]').text"
   ]
  },
  {
   "cell_type": "code",
   "execution_count": 289,
   "metadata": {},
   "outputs": [],
   "source": [
    "def getSecciones(segment):\n",
    "    salida = segment.find_element_by_xpath(\".//div[contains(@class,'sc-ldcLGC')]\")\n",
    "    llegada = segment.find_element_by_xpath(\".//div[contains(@class,'sc-hTQSVH')]\")\n",
    "    avion = segment.find_element_by_xpath('.//span[@class=\"airplane-code\"]').text\n",
    "    duration = segment.find_element_by_xpath('.//span[contains(@class, \"pathInfo-duration\")]/parent::*/span[@class=\"time\"]').text\n",
    "    return {'salida': getDatos(salida), 'llegada': getDatos(llegada), 'avion': avion, 'duracion': duration}"
   ]
  },
  {
   "cell_type": "code",
   "execution_count": 290,
   "metadata": {},
   "outputs": [
    {
     "data": {
      "text/plain": [
       "{'salida': {'origen': 'SCL',\n",
       "  'tiempo': '13:20',\n",
       "  'aeropuerto': 'A. Merino Benitez Intl.'},\n",
       " 'llegada': {'origen': 'MAD', 'tiempo': '6:00', 'aeropuerto': 'Barajas Intl.'},\n",
       " 'avion': 'Airbus A350-900',\n",
       " 'duracion': '12 h 40 min'}"
      ]
     },
     "execution_count": 290,
     "metadata": {},
     "output_type": "execute_result"
    }
   ],
   "source": [
    "getSecciones(segments[1])"
   ]
  },
  {
   "cell_type": "code",
   "execution_count": 261,
   "metadata": {},
   "outputs": [],
   "source": [
    "def getDatos(seccion):\n",
    "    origen = seccion.find_element_by_xpath('./div[@class=\"iataCode\"]/span').text\n",
    "    tiempo = seccion.find_element_by_xpath('./div[@class=\"iataCode\"]/span[@class=\"time\"]').text\n",
    "    aeropuerto = seccion.find_element_by_xpath('.//span[@class=\"ariport-name\"]').text\n",
    "    return {'origen': origen, 'tiempo': tiempo, 'aeropuerto': aeropuerto}"
   ]
  },
  {
   "cell_type": "code",
   "execution_count": 233,
   "metadata": {},
   "outputs": [],
   "source": [
    "driver.find_element_by_xpath('//div[@class=\"MuiDialog-container MuiDialog-scrollPaper\"]').click()"
   ]
  },
  {
   "cell_type": "code",
   "execution_count": 196,
   "metadata": {},
   "outputs": [],
   "source": [
    "vuelo.click()"
   ]
  },
  {
   "cell_type": "code",
   "execution_count": 197,
   "metadata": {},
   "outputs": [],
   "source": [
    "tabla_tarifas = driver.find_element_by_xpath('//ol[@aria-label=\"Tarifas disponibles.\"]')"
   ]
  },
  {
   "cell_type": "code",
   "execution_count": 198,
   "metadata": {},
   "outputs": [
    {
     "data": {
      "text/plain": [
       "{'1493.21': 'USD', '1694.99': 'USD', '4490.41': 'USD'}"
      ]
     },
     "execution_count": 198,
     "metadata": {},
     "output_type": "execute_result"
    }
   ],
   "source": [
    "monedas = tabla_tarifas.find_elements_by_xpath('.//span[contains(@class, \"currency\")]')\n",
    "tarifas = tabla_tarifas.find_elements_by_xpath('.//span[@class=\"sc-ccvjgv ddOTqA\"]')\n",
    "tarifas = list(map(lambda x: x.text, tarifas))\n",
    "monedas = list(map(lambda x: x.text, monedas))\n",
    "dict(zip(tarifas, monedas))"
   ]
  },
  {
   "cell_type": "code",
   "execution_count": 209,
   "metadata": {},
   "outputs": [],
   "source": [
    "def getPrecios(vuelo):\n",
    "    '''\n",
    "    Función que retorna los precios de un vuelo con el siguiente orden (tarifas, monedas, tiers).\n",
    "    '''\n",
    "    vuelo.click()\n",
    "    tabla_tarifas = driver.find_element_by_xpath('//ol[@aria-label=\"Tarifas disponibles.\"]')\n",
    "    monedas = tabla_tarifas.find_elements_by_xpath('.//span[contains(@class, \"currency\")]')\n",
    "    tarifas = tabla_tarifas.find_elements_by_xpath('.//span[@class=\"sc-ccvjgv ddOTqA\"]')\n",
    "    tier = tabla_tarifas.find_elements_by_xpath('.//span[@class=\"sc-igaqVs kvfVRk\"]')\n",
    "    tarifas = list(map(lambda x: x.text, tarifas))\n",
    "    monedas = list(map(lambda x: x.text, monedas))\n",
    "    tier = list(map(lambda x: x.text, tier))\n",
    "    button = vuelo.find_element_by_xpath('.//button[contains(@class,\"MuiButton-disableElevation\")]')\n",
    "    button.click()\n",
    "    return list(zip(tarifas, monedas, tier))"
   ]
  },
  {
   "cell_type": "code",
   "execution_count": 200,
   "metadata": {},
   "outputs": [],
   "source": [
    "vuelos[0].click()"
   ]
  },
  {
   "cell_type": "code",
   "execution_count": 210,
   "metadata": {},
   "outputs": [
    {
     "data": {
      "text/plain": [
       "[('1092.01', 'USD', 'plus'),\n",
       " ('1276.09', 'USD', 'top'),\n",
       " ('3219.55', 'USD', 'top')]"
      ]
     },
     "execution_count": 210,
     "metadata": {},
     "output_type": "execute_result"
    }
   ],
   "source": [
    "getPrecios(vuelos[23])"
   ]
  },
  {
   "cell_type": "code",
   "execution_count": null,
   "metadata": {},
   "outputs": [],
   "source": [
    "driver.close()"
   ]
  }
 ],
 "metadata": {
  "kernelspec": {
   "display_name": "Python 3.10.4 ('ds')",
   "language": "python",
   "name": "python3"
  },
  "language_info": {
   "codemirror_mode": {
    "name": "ipython",
    "version": 3
   },
   "file_extension": ".py",
   "mimetype": "text/x-python",
   "name": "python",
   "nbconvert_exporter": "python",
   "pygments_lexer": "ipython3",
   "version": "3.10.4"
  },
  "orig_nbformat": 4,
  "vscode": {
   "interpreter": {
    "hash": "71dda1f36ff01dd8280b241c9bbd2200903794e3fcef25f2dfa7d2687b44f136"
   }
  }
 },
 "nbformat": 4,
 "nbformat_minor": 2
}
